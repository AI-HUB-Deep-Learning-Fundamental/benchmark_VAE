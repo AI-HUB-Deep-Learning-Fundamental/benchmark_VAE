{
 "cells": [
  {
   "cell_type": "code",
   "execution_count": 1,
   "metadata": {},
   "outputs": [],
   "source": [
    "# If you run on colab uncomment the following line\n",
    "#!pip install git+https://github.com/clementchadebec/benchmark_VAE.git"
   ]
  },
  {
   "cell_type": "code",
   "execution_count": 2,
   "metadata": {},
   "outputs": [],
   "source": [
    "import torch\n",
    "import torchvision.datasets as datasets\n",
    "\n",
    "%load_ext autoreload\n",
    "%autoreload 2"
   ]
  },
  {
   "cell_type": "code",
   "execution_count": 13,
   "metadata": {},
   "outputs": [],
   "source": [
    "mnist_trainset = datasets.MNIST(root='../../data', train=True, download=True, transform=None)\n",
    "\n",
    "train_dataset = mnist_trainset.data[:-50000].reshape(-1, 1, 28, 28) / 255.\n",
    "eval_dataset = mnist_trainset.data[-10000:].reshape(-1, 1, 28, 28) / 255."
   ]
  },
  {
   "cell_type": "code",
   "execution_count": 14,
   "metadata": {},
   "outputs": [],
   "source": [
    "from pythae.models import VQVAE, VQVAEConfig\n",
    "from pythae.trainers import BaseTrainingConfig\n",
    "from pythae.pipelines.training import TrainingPipeline\n",
    "from pythae.models.nn.benchmarks.mnist import Encoder_AE_MNIST, Decoder_AE_MNIST"
   ]
  },
  {
   "cell_type": "code",
   "execution_count": 32,
   "metadata": {},
   "outputs": [
    {
     "name": "stdout",
     "output_type": "stream",
     "text": [
      "torch.Size([2, 16])\n",
      "1\n"
     ]
    }
   ],
   "source": [
    "config = BaseTrainingConfig(\n",
    "    output_dir='my_model',\n",
    "    learning_rate=1e-4,\n",
    "    batch_size=100,\n",
    "    num_epochs=1,\n",
    ")\n",
    "\n",
    "\n",
    "model_config = VQVAEConfig(\n",
    "    latent_dim=16,\n",
    "    input_dim=(1, 28, 28),\n",
    "    num_embeddings=10\n",
    ")\n",
    "\n",
    "model = VQVAE(\n",
    "    model_config=model_config,\n",
    "    encoder=Encoder_AE_MNIST(model_config), \n",
    "    decoder=Decoder_AE_MNIST(model_config) \n",
    ")"
   ]
  },
  {
   "cell_type": "code",
   "execution_count": 33,
   "metadata": {},
   "outputs": [],
   "source": [
    "pipeline = TrainingPipeline(\n",
    "    training_config=config,\n",
    "    model=model\n",
    ")"
   ]
  },
  {
   "cell_type": "code",
   "execution_count": 34,
   "metadata": {},
   "outputs": [
    {
     "name": "stderr",
     "output_type": "stream",
     "text": [
      "Preprocessing train data...\n",
      "Preprocessing eval data...\n",
      "\n",
      "Using Base Trainer\n",
      "\n",
      "Model passed sanity check !\n",
      "\n",
      "Created my_model/VQVAE_training_2022-01-12_14-24-47. \n",
      "Training config, checkpoints and final model will be saved here.\n",
      "\n",
      "Successfully launched training !\n",
      "\n"
     ]
    },
    {
     "name": "stdout",
     "output_type": "stream",
     "text": [
      "torch.Size([2, 4, 4, 1])\n",
      "torch.Size([32, 10])\n",
      "torch.Size([32, 1])\n",
      "torch.Size([32, 1, 1])\n",
      "torch.Size([2, 4, 4, 1])\n",
      "torch.Size([2, 4, 4, 1])\n",
      "torch.Size([2, 1, 4, 4])\n",
      "torch.Size([]) torch.Size([2])\n"
     ]
    },
    {
     "name": "stderr",
     "output_type": "stream",
     "text": [
      "Training of epoch 1/1:   0%|          | 0/100 [00:00<?, ?batch/s]"
     ]
    },
    {
     "name": "stdout",
     "output_type": "stream",
     "text": [
      "torch.Size([100, 4, 4, 1])\n",
      "torch.Size([1600, 10])\n",
      "torch.Size([1600, 1])\n",
      "torch.Size([1600, 1, 1])\n",
      "torch.Size([100, 4, 4, 1])\n",
      "torch.Size([100, 4, 4, 1])\n",
      "torch.Size([100, 1, 4, 4])\n",
      "torch.Size([]) torch.Size([100])\n",
      "torch.Size([100, 4, 4, 1])\n",
      "torch.Size([1600, 10])\n",
      "torch.Size([1600, 1])\n",
      "torch.Size([1600, 1, 1])\n",
      "torch.Size([100, 4, 4, 1])\n",
      "torch.Size([100, 4, 4, 1])\n",
      "torch.Size([100, 1, 4, 4])\n",
      "torch.Size([]) torch.Size([100])\n"
     ]
    },
    {
     "name": "stderr",
     "output_type": "stream",
     "text": [
      "Training of epoch 1/1:   2%|▏         | 2/100 [00:00<00:09, 10.65batch/s]"
     ]
    },
    {
     "name": "stdout",
     "output_type": "stream",
     "text": [
      "torch.Size([100, 4, 4, 1])\n",
      "torch.Size([1600, 10])\n",
      "torch.Size([1600, 1])\n",
      "torch.Size([1600, 1, 1])\n",
      "torch.Size([100, 4, 4, 1])\n",
      "torch.Size([100, 4, 4, 1])\n",
      "torch.Size([100, 1, 4, 4])\n",
      "torch.Size([]) torch.Size([100])\n"
     ]
    },
    {
     "name": "stderr",
     "output_type": "stream",
     "text": [
      "Training of epoch 1/1:   4%|▍         | 4/100 [00:00<00:08, 11.21batch/s]"
     ]
    },
    {
     "name": "stdout",
     "output_type": "stream",
     "text": [
      "torch.Size([100, 4, 4, 1])\n",
      "torch.Size([1600, 10])\n",
      "torch.Size([1600, 1])\n",
      "torch.Size([1600, 1, 1])\n",
      "torch.Size([100, 4, 4, 1])\n",
      "torch.Size([100, 4, 4, 1])\n",
      "torch.Size([100, 1, 4, 4])\n",
      "torch.Size([]) torch.Size([100])\n",
      "torch.Size([100, 4, 4, 1])\n",
      "torch.Size([1600, 10])\n",
      "torch.Size([1600, 1])\n",
      "torch.Size([1600, 1, 1])\n",
      "torch.Size([100, 4, 4, 1])\n",
      "torch.Size([100, 4, 4, 1])\n",
      "torch.Size([100, 1, 4, 4])\n",
      "torch.Size([]) torch.Size([100])\n"
     ]
    },
    {
     "name": "stderr",
     "output_type": "stream",
     "text": [
      "Training of epoch 1/1:   4%|▍         | 4/100 [00:00<00:08, 11.21batch/s]"
     ]
    },
    {
     "name": "stdout",
     "output_type": "stream",
     "text": [
      "torch.Size([100, 4, 4, 1])\n",
      "torch.Size([1600, 10])\n",
      "torch.Size([1600, 1])\n",
      "torch.Size([1600, 1, 1])\n",
      "torch.Size([100, 4, 4, 1])\n",
      "torch.Size([100, 4, 4, 1])\n",
      "torch.Size([100, 1, 4, 4])\n",
      "torch.Size([]) torch.Size([100])\n"
     ]
    },
    {
     "name": "stderr",
     "output_type": "stream",
     "text": [
      "Training of epoch 1/1:   6%|▌         | 6/100 [00:00<00:08, 11.43batch/s]"
     ]
    },
    {
     "name": "stdout",
     "output_type": "stream",
     "text": [
      "torch.Size([100, 4, 4, 1])\n",
      "torch.Size([1600, 10])\n",
      "torch.Size([1600, 1])\n",
      "torch.Size([1600, 1, 1])\n",
      "torch.Size([100, 4, 4, 1])\n",
      "torch.Size([100, 4, 4, 1])\n",
      "torch.Size([100, 1, 4, 4])\n",
      "torch.Size([]) torch.Size([100])\n",
      "torch.Size([100, 4, 4, 1])\n",
      "torch.Size([1600, 10])\n",
      "torch.Size([1600, 1])\n",
      "torch.Size([1600, 1, 1])\n",
      "torch.Size([100, 4, 4, 1])\n",
      "torch.Size([100, 4, 4, 1])\n",
      "torch.Size([100, 1, 4, 4])\n",
      "torch.Size([]) torch.Size([100])\n"
     ]
    },
    {
     "name": "stderr",
     "output_type": "stream",
     "text": [
      "Training of epoch 1/1:   8%|▊         | 8/100 [00:00<00:07, 11.52batch/s]"
     ]
    },
    {
     "name": "stdout",
     "output_type": "stream",
     "text": [
      "torch.Size([100, 4, 4, 1])\n",
      "torch.Size([1600, 10])\n",
      "torch.Size([1600, 1])\n",
      "torch.Size([1600, 1, 1])\n",
      "torch.Size([100, 4, 4, 1])\n",
      "torch.Size([100, 4, 4, 1])\n",
      "torch.Size([100, 1, 4, 4])\n",
      "torch.Size([]) torch.Size([100])\n"
     ]
    },
    {
     "name": "stderr",
     "output_type": "stream",
     "text": [
      "Training of epoch 1/1:  10%|█         | 10/100 [00:00<00:07, 11.45batch/s]"
     ]
    },
    {
     "name": "stdout",
     "output_type": "stream",
     "text": [
      "torch.Size([100, 4, 4, 1])\n",
      "torch.Size([1600, 10])\n",
      "torch.Size([1600, 1])\n",
      "torch.Size([1600, 1, 1])\n",
      "torch.Size([100, 4, 4, 1])\n",
      "torch.Size([100, 4, 4, 1])\n",
      "torch.Size([100, 1, 4, 4])\n",
      "torch.Size([]) torch.Size([100])\n",
      "torch.Size([100, 4, 4, 1])\n",
      "torch.Size([1600, 10])\n",
      "torch.Size([1600, 1])\n",
      "torch.Size([1600, 1, 1])\n",
      "torch.Size([100, 4, 4, 1])\n",
      "torch.Size([100, 4, 4, 1])\n",
      "torch.Size([100, 1, 4, 4])\n",
      "torch.Size([]) torch.Size([100])\n"
     ]
    },
    {
     "name": "stderr",
     "output_type": "stream",
     "text": [
      "Training of epoch 1/1:  10%|█         | 10/100 [00:00<00:07, 11.45batch/s]"
     ]
    },
    {
     "name": "stdout",
     "output_type": "stream",
     "text": [
      "torch.Size([100, 4, 4, 1])\n",
      "torch.Size([1600, 10])\n",
      "torch.Size([1600, 1])\n",
      "torch.Size([1600, 1, 1])\n",
      "torch.Size([100, 4, 4, 1])\n",
      "torch.Size([100, 4, 4, 1])\n",
      "torch.Size([100, 1, 4, 4])\n",
      "torch.Size([]) torch.Size([100])\n"
     ]
    },
    {
     "name": "stderr",
     "output_type": "stream",
     "text": [
      "Training of epoch 1/1:  12%|█▏        | 12/100 [00:01<00:07, 11.63batch/s]"
     ]
    },
    {
     "name": "stdout",
     "output_type": "stream",
     "text": [
      "torch.Size([100, 4, 4, 1])\n",
      "torch.Size([1600, 10])\n",
      "torch.Size([1600, 1])\n",
      "torch.Size([1600, 1, 1])\n",
      "torch.Size([100, 4, 4, 1])\n",
      "torch.Size([100, 4, 4, 1])\n",
      "torch.Size([100, 1, 4, 4])\n",
      "torch.Size([]) torch.Size([100])\n",
      "torch.Size([100, 4, 4, 1])\n",
      "torch.Size([1600, 10])\n",
      "torch.Size([1600, 1])\n",
      "torch.Size([1600, 1, 1])\n",
      "torch.Size([100, 4, 4, 1])\n",
      "torch.Size([100, 4, 4, 1])\n",
      "torch.Size([100, 1, 4, 4])\n",
      "torch.Size([]) torch.Size([100])\n"
     ]
    },
    {
     "name": "stderr",
     "output_type": "stream",
     "text": [
      "Training of epoch 1/1:  14%|█▍        | 14/100 [00:01<00:07, 11.70batch/s]"
     ]
    },
    {
     "name": "stdout",
     "output_type": "stream",
     "text": [
      "torch.Size([100, 4, 4, 1])\n",
      "torch.Size([1600, 10])\n",
      "torch.Size([1600, 1])\n",
      "torch.Size([1600, 1, 1])\n",
      "torch.Size([100, 4, 4, 1])\n",
      "torch.Size([100, 4, 4, 1])\n",
      "torch.Size([100, 1, 4, 4])\n",
      "torch.Size([]) torch.Size([100])\n"
     ]
    },
    {
     "name": "stderr",
     "output_type": "stream",
     "text": [
      "Training of epoch 1/1:  16%|█▌        | 16/100 [00:01<00:07, 11.77batch/s]"
     ]
    },
    {
     "name": "stdout",
     "output_type": "stream",
     "text": [
      "torch.Size([100, 4, 4, 1])\n",
      "torch.Size([1600, 10])\n",
      "torch.Size([1600, 1])\n",
      "torch.Size([1600, 1, 1])\n",
      "torch.Size([100, 4, 4, 1])\n",
      "torch.Size([100, 4, 4, 1])\n",
      "torch.Size([100, 1, 4, 4])\n",
      "torch.Size([]) torch.Size([100])\n",
      "torch.Size([100, 4, 4, 1])\n",
      "torch.Size([1600, 10])\n",
      "torch.Size([1600, 1])\n",
      "torch.Size([1600, 1, 1])\n",
      "torch.Size([100, 4, 4, 1])\n",
      "torch.Size([100, 4, 4, 1])\n",
      "torch.Size([100, 1, 4, 4])\n",
      "torch.Size([]) torch.Size([100])\n"
     ]
    },
    {
     "name": "stderr",
     "output_type": "stream",
     "text": [
      "Training of epoch 1/1:  16%|█▌        | 16/100 [00:01<00:07, 11.77batch/s]"
     ]
    },
    {
     "name": "stdout",
     "output_type": "stream",
     "text": [
      "torch.Size([100, 4, 4, 1])\n",
      "torch.Size([1600, 10])\n",
      "torch.Size([1600, 1])\n",
      "torch.Size([1600, 1, 1])\n",
      "torch.Size([100, 4, 4, 1])\n",
      "torch.Size([100, 4, 4, 1])\n",
      "torch.Size([100, 1, 4, 4])\n",
      "torch.Size([]) torch.Size([100])\n"
     ]
    },
    {
     "name": "stderr",
     "output_type": "stream",
     "text": [
      "Training of epoch 1/1:  18%|█▊        | 18/100 [00:01<00:06, 11.80batch/s]"
     ]
    },
    {
     "name": "stdout",
     "output_type": "stream",
     "text": [
      "torch.Size([100, 4, 4, 1])\n",
      "torch.Size([1600, 10])\n",
      "torch.Size([1600, 1])\n",
      "torch.Size([1600, 1, 1])\n",
      "torch.Size([100, 4, 4, 1])\n",
      "torch.Size([100, 4, 4, 1])\n",
      "torch.Size([100, 1, 4, 4])\n",
      "torch.Size([]) torch.Size([100])\n",
      "torch.Size([100, 4, 4, 1])\n",
      "torch.Size([1600, 10])\n",
      "torch.Size([1600, 1])\n",
      "torch.Size([1600, 1, 1])\n",
      "torch.Size([100, 4, 4, 1])\n",
      "torch.Size([100, 4, 4, 1])\n",
      "torch.Size([100, 1, 4, 4])\n",
      "torch.Size([]) torch.Size([100])\n"
     ]
    },
    {
     "name": "stderr",
     "output_type": "stream",
     "text": [
      "Training of epoch 1/1:  20%|██        | 20/100 [00:01<00:06, 11.79batch/s]"
     ]
    },
    {
     "name": "stdout",
     "output_type": "stream",
     "text": [
      "torch.Size([100, 4, 4, 1])\n",
      "torch.Size([1600, 10])\n",
      "torch.Size([1600, 1])\n",
      "torch.Size([1600, 1, 1])\n",
      "torch.Size([100, 4, 4, 1])\n",
      "torch.Size([100, 4, 4, 1])\n",
      "torch.Size([100, 1, 4, 4])\n",
      "torch.Size([]) torch.Size([100])\n"
     ]
    },
    {
     "name": "stderr",
     "output_type": "stream",
     "text": [
      "Training of epoch 1/1:  22%|██▏       | 22/100 [00:01<00:06, 11.81batch/s]"
     ]
    },
    {
     "name": "stdout",
     "output_type": "stream",
     "text": [
      "torch.Size([100, 4, 4, 1])\n",
      "torch.Size([1600, 10])\n",
      "torch.Size([1600, 1])\n",
      "torch.Size([1600, 1, 1])\n",
      "torch.Size([100, 4, 4, 1])\n",
      "torch.Size([100, 4, 4, 1])\n",
      "torch.Size([100, 1, 4, 4])\n",
      "torch.Size([]) torch.Size([100])\n",
      "torch.Size([100, 4, 4, 1])\n",
      "torch.Size([1600, 10])\n",
      "torch.Size([1600, 1])\n",
      "torch.Size([1600, 1, 1])\n",
      "torch.Size([100, 4, 4, 1])\n",
      "torch.Size([100, 4, 4, 1])\n",
      "torch.Size([100, 1, 4, 4])\n",
      "torch.Size([]) torch.Size([100])\n"
     ]
    },
    {
     "name": "stderr",
     "output_type": "stream",
     "text": [
      "Training of epoch 1/1:  22%|██▏       | 22/100 [00:01<00:06, 11.81batch/s]"
     ]
    },
    {
     "name": "stdout",
     "output_type": "stream",
     "text": [
      "torch.Size([100, 4, 4, 1])\n",
      "torch.Size([1600, 10])\n",
      "torch.Size([1600, 1])\n",
      "torch.Size([1600, 1, 1])\n",
      "torch.Size([100, 4, 4, 1])\n",
      "torch.Size([100, 4, 4, 1])\n",
      "torch.Size([100, 1, 4, 4])\n",
      "torch.Size([]) torch.Size([100])\n"
     ]
    },
    {
     "name": "stderr",
     "output_type": "stream",
     "text": [
      "Training of epoch 1/1:  24%|██▍       | 24/100 [00:02<00:06, 11.76batch/s]"
     ]
    },
    {
     "name": "stdout",
     "output_type": "stream",
     "text": [
      "torch.Size([100, 4, 4, 1])\n",
      "torch.Size([1600, 10])\n",
      "torch.Size([1600, 1])\n",
      "torch.Size([1600, 1, 1])\n",
      "torch.Size([100, 4, 4, 1])\n",
      "torch.Size([100, 4, 4, 1])\n",
      "torch.Size([100, 1, 4, 4])\n",
      "torch.Size([]) torch.Size([100])\n",
      "torch.Size([100, 4, 4, 1])\n",
      "torch.Size([1600, 10])\n",
      "torch.Size([1600, 1])\n",
      "torch.Size([1600, 1, 1])\n",
      "torch.Size([100, 4, 4, 1])\n",
      "torch.Size([100, 4, 4, 1])\n",
      "torch.Size([100, 1, 4, 4])\n",
      "torch.Size([]) torch.Size([100])\n"
     ]
    },
    {
     "name": "stderr",
     "output_type": "stream",
     "text": [
      "Training of epoch 1/1:  26%|██▌       | 26/100 [00:02<00:06, 11.79batch/s]"
     ]
    },
    {
     "name": "stdout",
     "output_type": "stream",
     "text": [
      "torch.Size([100, 4, 4, 1])\n",
      "torch.Size([1600, 10])\n",
      "torch.Size([1600, 1])\n",
      "torch.Size([1600, 1, 1])\n",
      "torch.Size([100, 4, 4, 1])\n",
      "torch.Size([100, 4, 4, 1])\n",
      "torch.Size([100, 1, 4, 4])\n",
      "torch.Size([]) torch.Size([100])\n"
     ]
    },
    {
     "name": "stderr",
     "output_type": "stream",
     "text": [
      "Training of epoch 1/1:  28%|██▊       | 28/100 [00:02<00:06, 11.84batch/s]"
     ]
    },
    {
     "name": "stdout",
     "output_type": "stream",
     "text": [
      "torch.Size([100, 4, 4, 1])\n",
      "torch.Size([1600, 10])\n",
      "torch.Size([1600, 1])\n",
      "torch.Size([1600, 1, 1])\n",
      "torch.Size([100, 4, 4, 1])\n",
      "torch.Size([100, 4, 4, 1])\n",
      "torch.Size([100, 1, 4, 4])\n",
      "torch.Size([]) torch.Size([100])\n",
      "torch.Size([100, 4, 4, 1])\n",
      "torch.Size([1600, 10])\n",
      "torch.Size([1600, 1])\n",
      "torch.Size([1600, 1, 1])\n",
      "torch.Size([100, 4, 4, 1])\n",
      "torch.Size([100, 4, 4, 1])\n",
      "torch.Size([100, 1, 4, 4])\n",
      "torch.Size([]) torch.Size([100])\n"
     ]
    },
    {
     "name": "stderr",
     "output_type": "stream",
     "text": [
      "Training of epoch 1/1:  28%|██▊       | 28/100 [00:02<00:06, 11.84batch/s]"
     ]
    },
    {
     "name": "stdout",
     "output_type": "stream",
     "text": [
      "torch.Size([100, 4, 4, 1])\n",
      "torch.Size([1600, 10])\n",
      "torch.Size([1600, 1])\n",
      "torch.Size([1600, 1, 1])\n",
      "torch.Size([100, 4, 4, 1])\n",
      "torch.Size([100, 4, 4, 1])\n",
      "torch.Size([100, 1, 4, 4])\n",
      "torch.Size([]) torch.Size([100])\n"
     ]
    },
    {
     "name": "stderr",
     "output_type": "stream",
     "text": [
      "Training of epoch 1/1:  30%|███       | 30/100 [00:02<00:05, 11.85batch/s]"
     ]
    },
    {
     "name": "stdout",
     "output_type": "stream",
     "text": [
      "torch.Size([100, 4, 4, 1])\n",
      "torch.Size([1600, 10])\n",
      "torch.Size([1600, 1])\n",
      "torch.Size([1600, 1, 1])\n",
      "torch.Size([100, 4, 4, 1])\n",
      "torch.Size([100, 4, 4, 1])\n",
      "torch.Size([100, 1, 4, 4])\n",
      "torch.Size([]) torch.Size([100])\n",
      "torch.Size([100, 4, 4, 1])\n",
      "torch.Size([1600, 10])\n",
      "torch.Size([1600, 1])\n",
      "torch.Size([1600, 1, 1])\n",
      "torch.Size([100, 4, 4, 1])\n",
      "torch.Size([100, 4, 4, 1])\n",
      "torch.Size([100, 1, 4, 4])\n",
      "torch.Size([]) torch.Size([100])\n"
     ]
    },
    {
     "name": "stderr",
     "output_type": "stream",
     "text": [
      "Training of epoch 1/1:  32%|███▏      | 32/100 [00:02<00:05, 11.85batch/s]"
     ]
    },
    {
     "name": "stdout",
     "output_type": "stream",
     "text": [
      "torch.Size([100, 4, 4, 1])\n",
      "torch.Size([1600, 10])\n",
      "torch.Size([1600, 1])\n",
      "torch.Size([1600, 1, 1])\n",
      "torch.Size([100, 4, 4, 1])\n",
      "torch.Size([100, 4, 4, 1])\n",
      "torch.Size([100, 1, 4, 4])\n",
      "torch.Size([]) torch.Size([100])\n"
     ]
    },
    {
     "name": "stderr",
     "output_type": "stream",
     "text": [
      "Training of epoch 1/1:  32%|███▏      | 32/100 [00:02<00:05, 11.36batch/s]\n"
     ]
    },
    {
     "ename": "KeyboardInterrupt",
     "evalue": "",
     "output_type": "error",
     "traceback": [
      "\u001b[0;31m---------------------------------------------------------------------------\u001b[0m",
      "\u001b[0;31mKeyboardInterrupt\u001b[0m                         Traceback (most recent call last)",
      "\u001b[0;32m/tmp/ipykernel_29002/280845381.py\u001b[0m in \u001b[0;36m<module>\u001b[0;34m\u001b[0m\n\u001b[0;32m----> 1\u001b[0;31m pipeline(\n\u001b[0m\u001b[1;32m      2\u001b[0m     \u001b[0mtrain_data\u001b[0m\u001b[0;34m=\u001b[0m\u001b[0mtrain_dataset\u001b[0m\u001b[0;34m,\u001b[0m\u001b[0;34m\u001b[0m\u001b[0;34m\u001b[0m\u001b[0m\n\u001b[1;32m      3\u001b[0m     \u001b[0meval_data\u001b[0m\u001b[0;34m=\u001b[0m\u001b[0meval_dataset\u001b[0m\u001b[0;34m\u001b[0m\u001b[0;34m\u001b[0m\u001b[0m\n\u001b[1;32m      4\u001b[0m )\n",
      "\u001b[0;32m~/Documents/benchmark_VAE/src/pythae/pipelines/training.py\u001b[0m in \u001b[0;36m__call__\u001b[0;34m(self, train_data, eval_data, log_output_dir)\u001b[0m\n\u001b[1;32m    189\u001b[0m         \u001b[0mself\u001b[0m\u001b[0;34m.\u001b[0m\u001b[0mtrainer\u001b[0m \u001b[0;34m=\u001b[0m \u001b[0mtrainer\u001b[0m\u001b[0;34m\u001b[0m\u001b[0;34m\u001b[0m\u001b[0m\n\u001b[1;32m    190\u001b[0m \u001b[0;34m\u001b[0m\u001b[0m\n\u001b[0;32m--> 191\u001b[0;31m         \u001b[0mtrainer\u001b[0m\u001b[0;34m.\u001b[0m\u001b[0mtrain\u001b[0m\u001b[0;34m(\u001b[0m\u001b[0mlog_output_dir\u001b[0m\u001b[0;34m=\u001b[0m\u001b[0mlog_output_dir\u001b[0m\u001b[0;34m)\u001b[0m\u001b[0;34m\u001b[0m\u001b[0;34m\u001b[0m\u001b[0m\n\u001b[0m",
      "\u001b[0;32m~/Documents/benchmark_VAE/src/pythae/trainers/base_trainer/base_trainer.py\u001b[0m in \u001b[0;36mtrain\u001b[0;34m(self, log_output_dir)\u001b[0m\n\u001b[1;32m    277\u001b[0m         \u001b[0;32mfor\u001b[0m \u001b[0mepoch\u001b[0m \u001b[0;32min\u001b[0m \u001b[0mrange\u001b[0m\u001b[0;34m(\u001b[0m\u001b[0;36m1\u001b[0m\u001b[0;34m,\u001b[0m \u001b[0mself\u001b[0m\u001b[0;34m.\u001b[0m\u001b[0mtraining_config\u001b[0m\u001b[0;34m.\u001b[0m\u001b[0mnum_epochs\u001b[0m\u001b[0;34m+\u001b[0m\u001b[0;36m1\u001b[0m\u001b[0;34m)\u001b[0m\u001b[0;34m:\u001b[0m\u001b[0;34m\u001b[0m\u001b[0;34m\u001b[0m\u001b[0m\n\u001b[1;32m    278\u001b[0m \u001b[0;34m\u001b[0m\u001b[0m\n\u001b[0;32m--> 279\u001b[0;31m             \u001b[0mepoch_train_loss\u001b[0m \u001b[0;34m=\u001b[0m \u001b[0mself\u001b[0m\u001b[0;34m.\u001b[0m\u001b[0mtrain_step\u001b[0m\u001b[0;34m(\u001b[0m\u001b[0mepoch\u001b[0m\u001b[0;34m)\u001b[0m\u001b[0;34m\u001b[0m\u001b[0;34m\u001b[0m\u001b[0m\n\u001b[0m\u001b[1;32m    280\u001b[0m \u001b[0;34m\u001b[0m\u001b[0m\n\u001b[1;32m    281\u001b[0m             \u001b[0;32mif\u001b[0m \u001b[0mself\u001b[0m\u001b[0;34m.\u001b[0m\u001b[0meval_dataset\u001b[0m \u001b[0;32mis\u001b[0m \u001b[0;32mnot\u001b[0m \u001b[0;32mNone\u001b[0m\u001b[0;34m:\u001b[0m\u001b[0;34m\u001b[0m\u001b[0;34m\u001b[0m\u001b[0m\n",
      "\u001b[0;32m~/Documents/benchmark_VAE/src/pythae/trainers/base_trainer/base_trainer.py\u001b[0m in \u001b[0;36mtrain_step\u001b[0;34m(self, epoch)\u001b[0m\n\u001b[1;32m    416\u001b[0m                 \u001b[0mself\u001b[0m\u001b[0;34m.\u001b[0m\u001b[0moptimizer\u001b[0m\u001b[0;34m.\u001b[0m\u001b[0mstep\u001b[0m\u001b[0;34m(\u001b[0m\u001b[0;34m)\u001b[0m\u001b[0;34m\u001b[0m\u001b[0;34m\u001b[0m\u001b[0m\n\u001b[1;32m    417\u001b[0m \u001b[0;34m\u001b[0m\u001b[0m\n\u001b[0;32m--> 418\u001b[0;31m                 \u001b[0mepoch_loss\u001b[0m \u001b[0;34m+=\u001b[0m \u001b[0mloss\u001b[0m\u001b[0;34m.\u001b[0m\u001b[0mitem\u001b[0m\u001b[0;34m(\u001b[0m\u001b[0;34m)\u001b[0m\u001b[0;34m\u001b[0m\u001b[0;34m\u001b[0m\u001b[0m\n\u001b[0m\u001b[1;32m    419\u001b[0m \u001b[0;34m\u001b[0m\u001b[0m\n\u001b[1;32m    420\u001b[0m                 \u001b[0;32mif\u001b[0m \u001b[0mepoch_loss\u001b[0m \u001b[0;34m!=\u001b[0m \u001b[0mepoch_loss\u001b[0m\u001b[0;34m:\u001b[0m\u001b[0;34m\u001b[0m\u001b[0;34m\u001b[0m\u001b[0m\n",
      "\u001b[0;31mKeyboardInterrupt\u001b[0m: "
     ]
    }
   ],
   "source": [
    "pipeline(\n",
    "    train_data=train_dataset,\n",
    "    eval_data=eval_dataset\n",
    ")"
   ]
  },
  {
   "cell_type": "code",
   "execution_count": null,
   "metadata": {},
   "outputs": [],
   "source": [
    "import os"
   ]
  },
  {
   "cell_type": "code",
   "execution_count": null,
   "metadata": {},
   "outputs": [],
   "source": [
    "last_training = sorted(os.listdir('my_model'))[-1]\n",
    "trained_model = AE.load_from_folder(os.path.join('my_model', last_training, 'final_model'))"
   ]
  },
  {
   "cell_type": "code",
   "execution_count": null,
   "metadata": {},
   "outputs": [],
   "source": [
    "from pythae.samplers import NormalSampler"
   ]
  },
  {
   "cell_type": "code",
   "execution_count": null,
   "metadata": {},
   "outputs": [],
   "source": [
    "# create normal sampler\n",
    "normal_samper = NormalSampler(\n",
    "    model=trained_model\n",
    ")"
   ]
  },
  {
   "cell_type": "code",
   "execution_count": null,
   "metadata": {},
   "outputs": [],
   "source": [
    "# sample\n",
    "gen_data = normal_samper.sample(\n",
    "    num_samples=25\n",
    ")"
   ]
  },
  {
   "cell_type": "code",
   "execution_count": null,
   "metadata": {},
   "outputs": [],
   "source": [
    "import matplotlib.pyplot as plt"
   ]
  },
  {
   "cell_type": "code",
   "execution_count": null,
   "metadata": {},
   "outputs": [],
   "source": [
    "# show results with normal sampler\n",
    "fig, axes = plt.subplots(nrows=5, ncols=5, figsize=(10, 10))\n",
    "\n",
    "for i in range(5):\n",
    "    for j in range(5):\n",
    "        axes[i][j].imshow(gen_data[i*5 +j].cpu().squeeze(0), cmap='gray')\n",
    "        axes[i][j].axis('off')\n",
    "plt.tight_layout(pad=0.)"
   ]
  },
  {
   "cell_type": "code",
   "execution_count": null,
   "metadata": {},
   "outputs": [],
   "source": [
    "from pythae.samplers import GaussianMixtureSampler, GaussianMixtureSamplerConfig"
   ]
  },
  {
   "cell_type": "code",
   "execution_count": null,
   "metadata": {},
   "outputs": [],
   "source": [
    "# set up GMM sampler config\n",
    "gmm_sampler_config = GaussianMixtureSamplerConfig(\n",
    "    n_components=10\n",
    ")\n",
    "\n",
    "# create gmm sampler\n",
    "gmm_sampler = GaussianMixtureSampler(\n",
    "    sampler_config=gmm_sampler_config,\n",
    "    model=trained_model\n",
    ")\n",
    "\n",
    "# fit the sampler\n",
    "gmm_sampler.fit(train_dataset)"
   ]
  },
  {
   "cell_type": "code",
   "execution_count": null,
   "metadata": {},
   "outputs": [],
   "source": [
    "# sample\n",
    "gen_data = gmm_sampler.sample(\n",
    "    num_samples=25\n",
    ")"
   ]
  },
  {
   "cell_type": "code",
   "execution_count": null,
   "metadata": {},
   "outputs": [],
   "source": [
    "# show results with gmm sampler\n",
    "fig, axes = plt.subplots(nrows=5, ncols=5, figsize=(10, 10))\n",
    "\n",
    "for i in range(5):\n",
    "    for j in range(5):\n",
    "        axes[i][j].imshow(gen_data[i*5 +j].cpu().squeeze(0), cmap='gray')\n",
    "        axes[i][j].axis('off')\n",
    "plt.tight_layout(pad=0.)"
   ]
  },
  {
   "cell_type": "markdown",
   "metadata": {},
   "source": [
    "## ... the other samplers work the same"
   ]
  }
 ],
 "metadata": {
  "interpreter": {
   "hash": "95022f601a219c6b6d093149c9a9b9a061a4446d3680d89cef8a1f82970031f2"
  },
  "kernelspec": {
   "display_name": "Python 3.8.11 64-bit ('pythae_dev': conda)",
   "name": "python3"
  },
  "language_info": {
   "codemirror_mode": {
    "name": "ipython",
    "version": 3
   },
   "file_extension": ".py",
   "mimetype": "text/x-python",
   "name": "python",
   "nbconvert_exporter": "python",
   "pygments_lexer": "ipython3",
   "version": "3.8.12"
  },
  "orig_nbformat": 4
 },
 "nbformat": 4,
 "nbformat_minor": 2
}
